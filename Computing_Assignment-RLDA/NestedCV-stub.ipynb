{
 "cells": [
  {
   "cell_type": "code",
   "execution_count": 26,
   "metadata": {},
   "outputs": [],
   "source": [
    "import pylab as pl\n",
    "import numpy as np\n",
    "import scipy as sp\n",
    "from numpy.linalg import eig\n",
    "from scipy.io import loadmat\n",
    "import pdb"
   ]
  },
  {
   "cell_type": "code",
   "execution_count": 27,
   "metadata": {},
   "outputs": [],
   "source": [
    "def load_data(fname):\n",
    "    # load the data\n",
    "    data = loadmat(fname)\n",
    "    # extract images and labels\n",
    "    X = data['X']\n",
    "    Y = data['Y']\n",
    "    # collapse the time-electrode dimensions\n",
    "    X = np.reshape(X,(X.shape[0]*X.shape[1],X.shape[2]))\n",
    "    # transform the labels to (-1,1)\n",
    "    Y = np.sign((Y[0,:]>0) -.5)\n",
    "    # pick only first 500 (1000, 3000) datapoints and compare optimal shrinkage\n",
    "    X= X[:,:500]\n",
    "    Y= Y[:500]\n",
    "    print(X.shape)\n",
    "    return X,Y"
   ]
  },
  {
   "cell_type": "code",
   "execution_count": 28,
   "metadata": {
    "collapsed": true
   },
   "outputs": [],
   "source": [
    "def crossvalidate_nested(X,Y,f,gammas):\n",
    "    ''' \n",
    "    Optimize shrinkage parameter for generalization performance \n",
    "    Input:\tX\tdata (dims-by-samples)\n",
    "                Y\tlabels (1-by-samples)\n",
    "                f\tnumber of cross-validation folds\n",
    "                gammas\ta selection of shrinkage parameters\n",
    "                trainfunction \ttrains linear classifier, returns weight vector and bias term\n",
    "    '''\n",
    "    # the next two lines reshape vector of indices in to a matrix:\n",
    "    # number of rows = # of folds\n",
    "    # number of columns = # of total data-points / # folds\n",
    "    N = f*int(np.floor(X.shape[-1]/f))\n",
    "    idx = np.reshape(np.arange(N),(f,int(np.floor(N/f)))) \n",
    "    # pdb.set_trace()\n",
    "    acc_test = np.zeros((f))\n",
    "    testgamma = np.zeros((gammas.shape[-1],f))\n",
    "    \n",
    "    # loop over folds:\n",
    "    # select one row of 'idx' for testing, all other rows for training\n",
    "    # call variables (indices) for training and testing 'train' and 'test'\n",
    "    for ifold in np.arange(f):\n",
    "        test_index = idx[ifold, :]\n",
    "        train_index = np.hstack(idx[np.arange(f) != ifold, :])\n",
    "        \n",
    "        X_train, X_test = X[:, train_index], X[:, test_index]\n",
    "        Y_train, Y_test = Y[train_index], Y[test_index]\n",
    "        \n",
    "        # loop over gammas\n",
    "        inner_accuracies = np.zeros(len(gammas))\n",
    "        for igamma in range(gammas.shape[-1]):\n",
    "            # each gamma is fed into the inner CV via the function 'crossvalidate_lda'\n",
    "            # the resulting variable is called 'testgamma'\n",
    "            current_gamma = gammas[igamma]  # Correctly refer to the current gamma value\n",
    "            inner_accuracies[igamma] = crossvalidate_lda(X_train, Y_train, f - 1, current_gamma)\n",
    "            # find the the highest accuracy of gammas for a given fold and use it to train an LDA on the training data\n",
    "        \n",
    "        best_gamma_idx = np.argmax(inner_accuracies)\n",
    "        best_gamma = gammas[best_gamma_idx]\n",
    "        testgamma[:, ifold] = inner_accuracies\n",
    "        \n",
    "        w, b = train_lda(X_train, Y_train, best_gamma)\n",
    "        \n",
    "        # calculate the accuracy for this LDA classifier on the test data\n",
    "        predictions = np.sign(X_test.T @ w + b)\n",
    "        acc_test[ifold] = np.mean(predictions == Y_test)\n",
    "\n",
    "    # do some plotting\n",
    "    pl.figure()\n",
    "    pl.boxplot(testgamma.T)\n",
    "    pl.xticks(np.arange(gammas.shape[-1])+1,gammas)\n",
    "    pl.xlabel('$\\gamma$')\n",
    "    pl.ylabel('Accuracy')\n",
    "    pl.savefig('cv_nested-boxplot.pdf')\n",
    "\n",
    "    return acc_test,testgamma"
   ]
  },
  {
   "cell_type": "code",
   "execution_count": 29,
   "metadata": {
    "collapsed": true
   },
   "outputs": [],
   "source": [
    "def crossvalidate_lda(X,Y,f,gamma):\n",
    "    ''' \n",
    "    Test generalization performance of shrinkage lda\n",
    "    Input:\tX\tdata (dims-by-samples)\n",
    "                Y\tlabels (1-by-samples)\n",
    "                f\tnumber of cross-validation folds\n",
    "                trainfunction \ttrains linear classifier, returns weight vector and bias term\n",
    "    '''\n",
    "    N = f*int(np.floor(X.shape[-1]/f))\n",
    "    idx = np.reshape(np.arange(N),(f,int(np.floor(N/f))))\n",
    "    acc_test = np.zeros((f))\n",
    "    \n",
    "    # loop over folds\n",
    "    # select one row of idx for testing, all others for training\n",
    "    # call variables (indices) for training and testing 'train' and 'test'\n",
    "    for ifold in np.arange(f):\n",
    "        test_index = idx[ifold, :]  # select one row for testing\n",
    "        train_index = np.hstack(idx[np.arange(f) != ifold, :])  # select other rows for training\n",
    "        \n",
    "        # selecting indices for training and testing\n",
    "        X_train, X_test = X[:, train_index], X[:, test_index]\n",
    "        Y_train, Y_test = Y[train_index], Y[test_index]\n",
    "        # train LDA classifier with training data and given gamma:\n",
    "        w,b = train_lda(X_train,Y_train,gamma)\n",
    "        # test classifier on test data:\n",
    "        predictions = np.sign(X_test.T @ w + b)\n",
    "        acc_test[ifold] = np.mean(predictions == Y_test)\n",
    "    return acc_test.mean()"
   ]
  },
  {
   "cell_type": "code",
   "execution_count": 30,
   "metadata": {
    "collapsed": true
   },
   "outputs": [],
   "source": [
    "def train_lda(X,Y,gamma):\n",
    "    '''\n",
    "    Train a nearest centroid classifier\n",
    "    '''\n",
    "    # class means\n",
    "    mupos = np.mean(X[:,Y>0],axis=1)\n",
    "    muneg = np.mean(X[:,Y<0],axis=1)\n",
    "\n",
    "    # inter and intra class covariance matrices\n",
    "    Sinter = np.outer(mupos-muneg,mupos-muneg)\n",
    "    #Sinter = np.outer(muneg-mupos,muneg-mupos)\n",
    "    Sintra = np.cov(X[:,Y>0]) + np.cov(X[:,Y<0])\n",
    "    # shrink covariance matrix estimate\n",
    "    nu = np.mean(np.diag(Sintra))\n",
    "    Shrink = (1 - gamma) * Sintra + gamma * nu * np.eye(Sintra.shape[0])\n",
    "    # solve eigenproblem\n",
    "    eigvals, eigvecs = np.linalg.eig(np.linalg.inv(Shrink).dot(Sinter))\n",
    "    # weight vector\n",
    "    w = eigvecs[:, np.argmax(eigvals)]\n",
    "    # offset\n",
    "    b = (np.dot(w, mupos) + np.dot(w, muneg)) / 2.\n",
    "    # return the weight vector\n",
    "    return w,b"
   ]
  },
  {
   "cell_type": "code",
   "execution_count": 31,
   "metadata": {},
   "outputs": [
    {
     "name": "stdout",
     "output_type": "stream",
     "text": [
      "(310, 500)\n"
     ]
    },
    {
     "name": "stderr",
     "output_type": "stream",
     "text": [
      "C:\\Users\\Yerassyl\\AppData\\Local\\Temp\\ipykernel_17760\\1183828504.py:2: DeprecationWarning: scipy.array is deprecated and will be removed in SciPy 2.0.0, use numpy.array instead\n",
      "  gammas=sp.array([0,.005,.05,.5,1])\n"
     ]
    },
    {
     "name": "stdout",
     "output_type": "stream",
     "text": [
      "[0.64 0.44 0.74 0.68 0.54 0.32 0.68 0.72 0.74 0.72]\n",
      "[[0.55777778 0.49555556 0.50666667 0.50444444 0.51777778 0.52222222\n",
      "  0.54222222 0.53111111 0.55555556 0.58222222]\n",
      " [0.52888889 0.38       0.49333333 0.60444444 0.52       0.47555556\n",
      "  0.56666667 0.48222222 0.65555556 0.52444444]\n",
      " [0.50222222 0.47555556 0.55555556 0.56       0.49333333 0.57555556\n",
      "  0.52444444 0.48666667 0.46666667 0.58888889]\n",
      " [0.42888889 0.40222222 0.41777778 0.55777778 0.50222222 0.52666667\n",
      "  0.44444444 0.36666667 0.41777778 0.55333333]\n",
      " [0.48888889 0.49333333 0.49333333 0.52444444 0.52444444 0.5\n",
      "  0.49111111 0.48222222 0.5        0.53333333]]\n"
     ]
    },
    {
     "data": {
      "image/png": "[encoded data removed]",
      "text/plain": [
       "<Figure size 640x480 with 1 Axes>"
      ]
     },
     "metadata": {},
     "output_type": "display_data"
    }
   ],
   "source": [
    "X,Y = load_data('bcidata.mat')\n",
    "gammas=sp.array([0,.005,.05,.5,1])\n",
    "a,b = crossvalidate_nested(X,Y,10,gammas)\n",
    "print(a)\n",
    "print(b)\n"
   ]
  }
 ],
 "metadata": {
  "kernelspec": {
   "display_name": "Python 3",
   "language": "python",
   "name": "python3"
  },
  "language_info": {
   "codemirror_mode": {
    "name": "ipython",
    "version": 3
   },
   "file_extension": ".py",
   "mimetype": "text/x-python",
   "name": "python",
   "nbconvert_exporter": "python",
   "pygments_lexer": "ipython3",
   "version": "3.11.5"
  }
 },
 "nbformat": 4,
 "nbformat_minor": 2
}

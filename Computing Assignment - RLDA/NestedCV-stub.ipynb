{
 "cells": [
  {
   "cell_type": "code",
   "execution_count": 1,
   "metadata": {},
   "outputs": [],
   "source": [
    "import pylab as pl\n",
    "import numpy as np\n",
    "import scipy as sp\n",
    "from numpy.linalg import eig\n",
    "from scipy.io import loadmat\n",
    "import pdb"
   ]
  },
  {
   "cell_type": "code",
   "execution_count": null,
   "metadata": {},
   "outputs": [],
   "source": [
    "def load_data(fname):\n",
    "    # load the data\n",
    "    data = loadmat(fname)\n",
    "    # extract images and labels\n",
    "    X = data['X']\n",
    "    Y = data['Y']\n",
    "    # collapse the time-electrode dimensions\n",
    "    X = sp.reshape(X,(X.shape[0]*X.shape[1],X.shape[2]))\n",
    "    # transform the labels to (-1,1)\n",
    "    Y = sp.sign((Y[0,:]>0) -.5)\n",
    "    # pick only first 500 (1000, 3000) datapoints and compare optimal shrinkage\n",
    "    X= ...\n",
    "    Y= ...\n",
    "    print(X.shape)\n",
    "    return X,Y"
   ]
  },
  {
   "cell_type": "code",
   "execution_count": null,
   "metadata": {
    "collapsed": true
   },
   "outputs": [],
   "source": [
    "def crossvalidate_nested(X,Y,f,gammas):\n",
    "    ''' \n",
    "    Optimize shrinkage parameter for generalization performance \n",
    "    Input:\tX\tdata (dims-by-samples)\n",
    "                Y\tlabels (1-by-samples)\n",
    "                f\tnumber of cross-validation folds\n",
    "                gammas\ta selection of shrinkage parameters\n",
    "                trainfunction \ttrains linear classifier, returns weight vector and bias term\n",
    "    '''\n",
    "    # the next two lines reshape vector of indices in to a matrix:\n",
    "    # number of rows = # of folds\n",
    "    # number of columns = # of total data-points / # folds\n",
    "    N = f*int(np.floor(X.shape[-1]/f))\n",
    "    idx = sp.reshape(sp.arange(N),(f,int(np.floor(N/f)))) \n",
    "    pdb.set_trace()\n",
    "    acc_test = sp.zeros((f))\n",
    "    testgamma = sp.zeros((gammas.shape[-1],f))\n",
    "    \n",
    "    # loop over folds:\n",
    "    # select one row of 'idx' for testing, all other rows for training\n",
    "    # call variables (indices) for training and testing 'train' and 'test'\n",
    "    for ifold in sp.arange(f):\n",
    "        ...\n",
    "        ...\n",
    "        \n",
    "        # loop over gammas\n",
    "        for igamma in range(gammas.shape[-1]):\n",
    "            # each gamma is fed into the inner CV via the function 'crossvalidate_lda'\n",
    "            # the resulting variable is called 'testgamma'\n",
    "            testgamma[igamma,ifold] = crossvalidate_lda(...,...,f-1,...)\n",
    "        # find the the highest accuracy of gammas for a given fold and use it to train an LDA on the training data\n",
    "        ...\n",
    "        w,b = train_lda(...,...,...)\n",
    "        # calculate the accuracy for this LDA classifier on the test data\n",
    "        ...\n",
    "        acc_test[ifold] = ...\n",
    "\n",
    "    # do some plotting\n",
    "    pl.figure()\n",
    "    pl.boxplot(testgamma.T)\n",
    "    pl.xticks(sp.arange(gammas.shape[-1])+1,gammas)\n",
    "    pl.xlabel('$\\gamma$')\n",
    "    pl.ylabel('Accuracy')\n",
    "    pl.savefig('cv_nested-boxplot.pdf')\n",
    "\n",
    "    return acc_test,testgamma"
   ]
  },
  {
   "cell_type": "code",
   "execution_count": null,
   "metadata": {
    "collapsed": true
   },
   "outputs": [],
   "source": [
    "def crossvalidate_lda(X,Y,f,gamma):\n",
    "    ''' \n",
    "    Test generalization performance of shrinkage lda\n",
    "    Input:\tX\tdata (dims-by-samples)\n",
    "                Y\tlabels (1-by-samples)\n",
    "                f\tnumber of cross-validation folds\n",
    "                trainfunction \ttrains linear classifier, returns weight vector and bias term\n",
    "    '''\n",
    "    N = f*int(np.floor(X.shape[-1]/f))\n",
    "    idx = sp.reshape(sp.arange(N),(f,int(np.floor(N/f))))\n",
    "    acc_test = sp.zeros((f))\n",
    "    \n",
    "    # loop over folds\n",
    "    # select one row of idx for testing, all others for training\n",
    "    # call variables (indices) for training and testing 'train' and 'test'\n",
    "    for ifold in sp.arange(f):\n",
    "        ...\n",
    "        ...\n",
    "        # train LDA classifier with training data and given gamma:\n",
    "        w,b = train_lda(...,...,...)\n",
    "        # test classifier on test data:\n",
    "        ...\n",
    "        acc_test[ifold] = ...\n",
    "    return acc_test.mean()"
   ]
  },
  {
   "cell_type": "code",
   "execution_count": null,
   "metadata": {
    "collapsed": true
   },
   "outputs": [],
   "source": [
    "def train_lda(X,Y,gamma):\n",
    "    '''\n",
    "    Train a nearest centroid classifier\n",
    "    '''\n",
    "    # class means\n",
    "    mupos = sp.mean(X[:,Y>0],axis=1)\n",
    "    muneg = sp.mean(X[:,Y<0],axis=1)\n",
    "\n",
    "    # inter and intra class covariance matrices\n",
    "    Sinter = sp.outer(mupos-muneg,mupos-muneg)\n",
    "    #Sinter = sp.outer(muneg-mupos,muneg-mupos)\n",
    "    Sintra = sp.cov(X[:,Y>0]) + sp.cov(X[:,Y<0])\n",
    "    # shrink covariance matrix estimate\n",
    "    Sintra = ...\n",
    "    # solve eigenproblem\n",
    "    eigvals, eigvecs = sp.linalg.eig(Sinter,Sintra)\n",
    "    # weight vector\n",
    "    w = eigvecs[:,eigvals.argmax()]\n",
    "    # offset\n",
    "    b = (w.dot(mupos) + w.dot(muneg))/2.\n",
    "    # return the weight vector\n",
    "    return w,b"
   ]
  },
  {
   "cell_type": "code",
   "execution_count": null,
   "metadata": {},
   "outputs": [],
   "source": [
    "X,Y = load_data('bcidata.mat')\n",
    "gammas=sp.array([0,.005,.05,.5,1])\n",
    "a,b = crossvalidate_nested(X,Y,10,gammas)\n",
    "print(a)\n",
    "print(b)\n"
   ]
  }
 ],
 "metadata": {
  "kernelspec": {
   "display_name": "Python 3 (ipykernel)",
   "language": "python",
   "name": "python3"
  },
  "language_info": {
   "codemirror_mode": {
    "name": "ipython",
    "version": 3
   },
   "file_extension": ".py",
   "mimetype": "text/x-python",
   "name": "python",
   "nbconvert_exporter": "python",
   "pygments_lexer": "ipython3",
   "version": "3.7.13"
  }
 },
 "nbformat": 4,
 "nbformat_minor": 2
}
